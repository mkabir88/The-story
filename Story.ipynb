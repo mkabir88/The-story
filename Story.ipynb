{
 "cells": [
  {
   "cell_type": "markdown",
   "id": "9841fca0",
   "metadata": {},
   "source": [
    "# A program that let the user customise the story character and year and prints it out!"
   ]
  },
  {
   "cell_type": "code",
   "execution_count": null,
   "id": "5af7dd50",
   "metadata": {},
   "outputs": [],
   "source": [
    "name = input(\"Please type in a name: \")\n",
    "year = input(\"Please type in a year: \")\n",
    "print(name +\" is valiant knight, born in the year \" + year + \". One morning \" + name + \" woke up to an awful racket: a dragon was approaching the village. Only \" + name + \" could save the village's residents.\")"
   ]
  }
 ],
 "metadata": {
  "kernelspec": {
   "display_name": "Python 3 (ipykernel)",
   "language": "python",
   "name": "python3"
  },
  "language_info": {
   "codemirror_mode": {
    "name": "ipython",
    "version": 3
   },
   "file_extension": ".py",
   "mimetype": "text/x-python",
   "name": "python",
   "nbconvert_exporter": "python",
   "pygments_lexer": "ipython3",
   "version": "3.9.7"
  }
 },
 "nbformat": 4,
 "nbformat_minor": 5
}
